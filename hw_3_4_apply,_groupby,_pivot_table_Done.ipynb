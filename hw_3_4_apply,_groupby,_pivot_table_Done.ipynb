{
 "cells": [
  {
   "cell_type": "markdown",
   "metadata": {
    "id": "LwNpAFw_eTF3"
   },
   "source": [
    "#Домашнє завдання до тем apply(), groupby(), pivot_table()"
   ]
  },
  {
   "cell_type": "markdown",
   "metadata": {
    "id": "vP2PEJyq8Yrj"
   },
   "source": [
    "В цьому домашньому завданні продовжуємо працювати з набором даних `supermarket_sales.csv`."
   ]
  },
  {
   "cell_type": "markdown",
   "metadata": {
    "id": "dh9lfpDb8gBL"
   },
   "source": [
    "0. Імпортуйте бібліотеку pandas та зчитайте дані у змінну `df` типу `pandas.DataFrame`."
   ]
  },
  {
   "cell_type": "code",
   "execution_count": 9,
   "metadata": {
    "id": "xBI9gJMK8qnl"
   },
   "outputs": [
    {
     "data": {
      "text/html": [
       "<div>\n",
       "<style scoped>\n",
       "    .dataframe tbody tr th:only-of-type {\n",
       "        vertical-align: middle;\n",
       "    }\n",
       "\n",
       "    .dataframe tbody tr th {\n",
       "        vertical-align: top;\n",
       "    }\n",
       "\n",
       "    .dataframe thead th {\n",
       "        text-align: right;\n",
       "    }\n",
       "</style>\n",
       "<table border=\"1\" class=\"dataframe\">\n",
       "  <thead>\n",
       "    <tr style=\"text-align: right;\">\n",
       "      <th></th>\n",
       "      <th>Invoice ID</th>\n",
       "      <th>Branch</th>\n",
       "      <th>City</th>\n",
       "      <th>Customer type</th>\n",
       "      <th>Gender</th>\n",
       "      <th>Product line</th>\n",
       "      <th>Unit price</th>\n",
       "      <th>Quantity</th>\n",
       "      <th>Tax 5%</th>\n",
       "      <th>Total</th>\n",
       "      <th>Date</th>\n",
       "      <th>Time</th>\n",
       "      <th>Payment</th>\n",
       "      <th>cogs</th>\n",
       "      <th>gross margin percentage</th>\n",
       "      <th>gross income</th>\n",
       "      <th>Rating</th>\n",
       "    </tr>\n",
       "  </thead>\n",
       "  <tbody>\n",
       "    <tr>\n",
       "      <th>0</th>\n",
       "      <td>750-67-8428</td>\n",
       "      <td>A</td>\n",
       "      <td>Yangon</td>\n",
       "      <td>Member</td>\n",
       "      <td>Female</td>\n",
       "      <td>Health and beauty</td>\n",
       "      <td>74.69</td>\n",
       "      <td>7</td>\n",
       "      <td>26.1415</td>\n",
       "      <td>548.9715</td>\n",
       "      <td>1/5/2019</td>\n",
       "      <td>13:08</td>\n",
       "      <td>Ewallet</td>\n",
       "      <td>522.83</td>\n",
       "      <td>4.761905</td>\n",
       "      <td>26.1415</td>\n",
       "      <td>9.1</td>\n",
       "    </tr>\n",
       "    <tr>\n",
       "      <th>1</th>\n",
       "      <td>226-31-3081</td>\n",
       "      <td>C</td>\n",
       "      <td>Naypyitaw</td>\n",
       "      <td>Normal</td>\n",
       "      <td>Female</td>\n",
       "      <td>Electronic accessories</td>\n",
       "      <td>15.28</td>\n",
       "      <td>5</td>\n",
       "      <td>3.8200</td>\n",
       "      <td>80.2200</td>\n",
       "      <td>3/8/2019</td>\n",
       "      <td>10:29</td>\n",
       "      <td>Cash</td>\n",
       "      <td>76.40</td>\n",
       "      <td>4.761905</td>\n",
       "      <td>3.8200</td>\n",
       "      <td>9.6</td>\n",
       "    </tr>\n",
       "    <tr>\n",
       "      <th>2</th>\n",
       "      <td>631-41-3108</td>\n",
       "      <td>A</td>\n",
       "      <td>Yangon</td>\n",
       "      <td>Normal</td>\n",
       "      <td>Male</td>\n",
       "      <td>Home and lifestyle</td>\n",
       "      <td>46.33</td>\n",
       "      <td>7</td>\n",
       "      <td>16.2155</td>\n",
       "      <td>340.5255</td>\n",
       "      <td>3/3/2019</td>\n",
       "      <td>13:23</td>\n",
       "      <td>Credit card</td>\n",
       "      <td>324.31</td>\n",
       "      <td>4.761905</td>\n",
       "      <td>16.2155</td>\n",
       "      <td>7.4</td>\n",
       "    </tr>\n",
       "    <tr>\n",
       "      <th>3</th>\n",
       "      <td>123-19-1176</td>\n",
       "      <td>A</td>\n",
       "      <td>Yangon</td>\n",
       "      <td>Member</td>\n",
       "      <td>Male</td>\n",
       "      <td>Health and beauty</td>\n",
       "      <td>58.22</td>\n",
       "      <td>8</td>\n",
       "      <td>23.2880</td>\n",
       "      <td>489.0480</td>\n",
       "      <td>1/27/2019</td>\n",
       "      <td>20:33</td>\n",
       "      <td>Ewallet</td>\n",
       "      <td>465.76</td>\n",
       "      <td>4.761905</td>\n",
       "      <td>23.2880</td>\n",
       "      <td>8.4</td>\n",
       "    </tr>\n",
       "    <tr>\n",
       "      <th>4</th>\n",
       "      <td>373-73-7910</td>\n",
       "      <td>A</td>\n",
       "      <td>Yangon</td>\n",
       "      <td>Normal</td>\n",
       "      <td>Male</td>\n",
       "      <td>Sports and travel</td>\n",
       "      <td>86.31</td>\n",
       "      <td>7</td>\n",
       "      <td>30.2085</td>\n",
       "      <td>634.3785</td>\n",
       "      <td>2/8/2019</td>\n",
       "      <td>10:37</td>\n",
       "      <td>Ewallet</td>\n",
       "      <td>604.17</td>\n",
       "      <td>4.761905</td>\n",
       "      <td>30.2085</td>\n",
       "      <td>5.3</td>\n",
       "    </tr>\n",
       "  </tbody>\n",
       "</table>\n",
       "</div>"
      ],
      "text/plain": [
       "    Invoice ID Branch       City Customer type  Gender  \\\n",
       "0  750-67-8428      A     Yangon        Member  Female   \n",
       "1  226-31-3081      C  Naypyitaw        Normal  Female   \n",
       "2  631-41-3108      A     Yangon        Normal    Male   \n",
       "3  123-19-1176      A     Yangon        Member    Male   \n",
       "4  373-73-7910      A     Yangon        Normal    Male   \n",
       "\n",
       "             Product line  Unit price  Quantity   Tax 5%     Total       Date  \\\n",
       "0       Health and beauty       74.69         7  26.1415  548.9715   1/5/2019   \n",
       "1  Electronic accessories       15.28         5   3.8200   80.2200   3/8/2019   \n",
       "2      Home and lifestyle       46.33         7  16.2155  340.5255   3/3/2019   \n",
       "3       Health and beauty       58.22         8  23.2880  489.0480  1/27/2019   \n",
       "4       Sports and travel       86.31         7  30.2085  634.3785   2/8/2019   \n",
       "\n",
       "    Time      Payment    cogs  gross margin percentage  gross income  Rating  \n",
       "0  13:08      Ewallet  522.83                 4.761905       26.1415     9.1  \n",
       "1  10:29         Cash   76.40                 4.761905        3.8200     9.6  \n",
       "2  13:23  Credit card  324.31                 4.761905       16.2155     7.4  \n",
       "3  20:33      Ewallet  465.76                 4.761905       23.2880     8.4  \n",
       "4  10:37      Ewallet  604.17                 4.761905       30.2085     5.3  "
      ]
     },
     "execution_count": 9,
     "metadata": {},
     "output_type": "execute_result"
    }
   ],
   "source": [
    "import pandas as pd\n",
    "df = pd.read_csv(\"C:/Users/Hanna/Desktop/DataLoves/data/supermarket_sales.csv\")\n",
    "df.head()"
   ]
  },
  {
   "cell_type": "markdown",
   "metadata": {
    "id": "28638363"
   },
   "source": [
    "1. Дослідимо, який філіал супермаркету ('Branch') є найприбутковішим. Для цього знайдіть сумарний прибуток за кожним філіалом і виявіть, який філіал має найвищий."
   ]
  },
  {
   "cell_type": "code",
   "execution_count": 10,
   "metadata": {
    "ExecuteTime": {
     "end_time": "2022-11-01T17:27:42.023877Z",
     "start_time": "2022-11-01T17:27:42.020277Z"
    },
    "id": "916d731d"
   },
   "outputs": [
    {
     "data": {
      "text/plain": [
       "Branch\n",
       "A    5057.1605\n",
       "B    5057.0320\n",
       "C    5265.1765\n",
       "Name: gross income, dtype: float64"
      ]
     },
     "execution_count": 10,
     "metadata": {},
     "output_type": "execute_result"
    }
   ],
   "source": [
    "df.groupby(\"Branch\")[\"gross income\"].sum()"
   ]
  },
  {
   "cell_type": "markdown",
   "metadata": {
    "id": "2qL_OddUCZKK"
   },
   "source": [
    "2. В якому місті знайходиться філіал з найвищим прибутком? Може в тому місці нам розмітисти ще один магазин.  \n",
    "Знайдіть відповідь за допомогою функціоналу Pandas."
   ]
  },
  {
   "cell_type": "markdown",
   "metadata": {
    "id": "bBJUc1dWCwdi"
   },
   "source": [
    "Таким чином, найвищий сумарний прибуток (хоч і з невеликим відривом від філіалу В) має філіал А."
   ]
  },
  {
   "cell_type": "code",
   "execution_count": 14,
   "metadata": {},
   "outputs": [
    {
     "data": {
      "text/plain": [
       "Branch  City     \n",
       "A       Yangon       5057.1605\n",
       "B       Mandalay     5057.0320\n",
       "C       Naypyitaw    5265.1765\n",
       "Name: gross income, dtype: float64"
      ]
     },
     "execution_count": 14,
     "metadata": {},
     "output_type": "execute_result"
    }
   ],
   "source": [
    "df.groupby([\"Branch\", \"City\"])[\"gross income\"].sum()"
   ]
  },
  {
   "cell_type": "markdown",
   "metadata": {
    "id": "6dec795f"
   },
   "source": [
    "3.1. Створіть зводну таблицю, яка покаже, скільки покупок (інвойсів) було зроблено в кожній з філій (`Branch`) за різними категоріями товарів. Запишіть таблицю в змінну `invoices_by_category` і виведіть змінну на екран.\n",
    "Ця таблиця допоможе проаналізувати, в якій філії купують найбільше товарів кожної з категорій."
   ]
  },
  {
   "cell_type": "code",
   "execution_count": 20,
   "metadata": {
    "id": "N7TfUBf4ZrkX"
   },
   "outputs": [
    {
     "data": {
      "text/html": [
       "<div>\n",
       "<style scoped>\n",
       "    .dataframe tbody tr th:only-of-type {\n",
       "        vertical-align: middle;\n",
       "    }\n",
       "\n",
       "    .dataframe tbody tr th {\n",
       "        vertical-align: top;\n",
       "    }\n",
       "\n",
       "    .dataframe thead th {\n",
       "        text-align: right;\n",
       "    }\n",
       "</style>\n",
       "<table border=\"1\" class=\"dataframe\">\n",
       "  <thead>\n",
       "    <tr style=\"text-align: right;\">\n",
       "      <th>Product line</th>\n",
       "      <th>Electronic accessories</th>\n",
       "      <th>Fashion accessories</th>\n",
       "      <th>Food and beverages</th>\n",
       "      <th>Health and beauty</th>\n",
       "      <th>Home and lifestyle</th>\n",
       "      <th>Sports and travel</th>\n",
       "    </tr>\n",
       "    <tr>\n",
       "      <th>Branch</th>\n",
       "      <th></th>\n",
       "      <th></th>\n",
       "      <th></th>\n",
       "      <th></th>\n",
       "      <th></th>\n",
       "      <th></th>\n",
       "    </tr>\n",
       "  </thead>\n",
       "  <tbody>\n",
       "    <tr>\n",
       "      <th>A</th>\n",
       "      <td>60</td>\n",
       "      <td>51</td>\n",
       "      <td>58</td>\n",
       "      <td>47</td>\n",
       "      <td>65</td>\n",
       "      <td>59</td>\n",
       "    </tr>\n",
       "    <tr>\n",
       "      <th>B</th>\n",
       "      <td>55</td>\n",
       "      <td>62</td>\n",
       "      <td>50</td>\n",
       "      <td>53</td>\n",
       "      <td>50</td>\n",
       "      <td>62</td>\n",
       "    </tr>\n",
       "    <tr>\n",
       "      <th>C</th>\n",
       "      <td>55</td>\n",
       "      <td>65</td>\n",
       "      <td>66</td>\n",
       "      <td>52</td>\n",
       "      <td>45</td>\n",
       "      <td>45</td>\n",
       "    </tr>\n",
       "  </tbody>\n",
       "</table>\n",
       "</div>"
      ],
      "text/plain": [
       "Product line  Electronic accessories  Fashion accessories  Food and beverages  \\\n",
       "Branch                                                                          \n",
       "A                                 60                   51                  58   \n",
       "B                                 55                   62                  50   \n",
       "C                                 55                   65                  66   \n",
       "\n",
       "Product line  Health and beauty  Home and lifestyle  Sports and travel  \n",
       "Branch                                                                  \n",
       "A                            47                  65                 59  \n",
       "B                            53                  50                 62  \n",
       "C                            52                  45                 45  "
      ]
     },
     "execution_count": 20,
     "metadata": {},
     "output_type": "execute_result"
    }
   ],
   "source": [
    "invoices_by_category = df.pivot_table\\\n",
    "(index='Branch', columns='Product line', values='Invoice ID', aggfunc=pd.Series.nunique)\n",
    "invoices_by_category"
   ]
  },
  {
   "cell_type": "markdown",
   "metadata": {
    "ExecuteTime": {
     "end_time": "2022-11-01T16:50:46.961201Z",
     "start_time": "2022-11-01T16:50:46.955894Z"
    },
    "id": "f5bbfa34"
   },
   "source": [
    "Очікуваний результат:"
   ]
  },
  {
   "cell_type": "markdown",
   "metadata": {
    "id": "34b9bcdc"
   },
   "source": [
    "![](https://drive.google.com/uc?export=view&id=1rueAdko6S3UxIHGtojetTxlES-EyM6Yb)"
   ]
  },
  {
   "cell_type": "markdown",
   "metadata": {
    "id": "woygDEA0OSwJ"
   },
   "source": [
    "3.2. Викристовуючи змінну `invoices_by_category` дайте відповідь програмно (тобто значення треба не просто знайти очима, а вивести за допомогою коду), в якому філіалі магазину (`Branch`) найбільше інвойсів із покупкою товарів категорії \"Електронні аксесуари\" (`Electronic accessories`)?\n"
   ]
  },
  {
   "cell_type": "code",
   "execution_count": 23,
   "metadata": {
    "id": "B5x8kTE-Qcq8"
   },
   "outputs": [
    {
     "data": {
      "text/plain": [
       "'A'"
      ]
     },
     "execution_count": 23,
     "metadata": {},
     "output_type": "execute_result"
    }
   ],
   "source": [
    "invoices_by_category[\"Electronic accessories\"].idxmax()"
   ]
  },
  {
   "cell_type": "markdown",
   "metadata": {
    "ExecuteTime": {
     "end_time": "2022-11-01T17:56:02.981755Z",
     "start_time": "2022-11-01T17:56:02.977086Z"
    },
    "id": "d005a2b8"
   },
   "source": [
    "4-6. **Творче завдання на розвиток аналітичного мислення**\n",
    "\n",
    "Крок 1. Сформулюйте ТРИ питання (гіпотези) до наявних даних, які допомогли б вам зрозуміти, які користувачі що, де та коли найбільше/найменше купують, аби дати на основі цих гіпотез рекомендації бізнесу. Звісно питання мають бути не тими, на які ми вже відповіли в завданнях модулю.\n",
    "\n",
    "Крок 2. Знайдіть відповіді на свої питання з допомогою функціоналу pandas.\n",
    "\n",
    "Крок 3. Напишіть, як відповідь на це питання може бути використана для прийняття бізнес рішень.   \n",
    "   \n",
    " Питання можуть бути будь-якої складності, але їх має бути 3. Кожне питання оцінюється як 1 завдання. Без виконання цього завдання ДЗ не приймається. Якщо є питання щодо виконання - пишіть у чат 🙌\n"
   ]
  },
  {
   "cell_type": "markdown",
   "metadata": {
    "id": "cM3cApWSZuRX"
   },
   "source": [
    "Крок 1. Питання\n",
    "1. Які категорії товарів по кожному із міст приносять найвищий прибуток?\n",
    "2. Яку частку від загального прибутку міста формують покупці-жінки та покупці-чоловіки у кожному з міст?\n",
    "3. Яку частку міського прибутку (gross income) формують клієнти Member і Normal у кожному місті?"
   ]
  },
  {
   "cell_type": "code",
   "execution_count": 36,
   "metadata": {},
   "outputs": [
    {
     "data": {
      "text/html": [
       "<div>\n",
       "<style scoped>\n",
       "    .dataframe tbody tr th:only-of-type {\n",
       "        vertical-align: middle;\n",
       "    }\n",
       "\n",
       "    .dataframe tbody tr th {\n",
       "        vertical-align: top;\n",
       "    }\n",
       "\n",
       "    .dataframe thead th {\n",
       "        text-align: right;\n",
       "    }\n",
       "</style>\n",
       "<table border=\"1\" class=\"dataframe\">\n",
       "  <thead>\n",
       "    <tr style=\"text-align: right;\">\n",
       "      <th>Product line</th>\n",
       "      <th>Electronic accessories</th>\n",
       "      <th>Fashion accessories</th>\n",
       "      <th>Food and beverages</th>\n",
       "      <th>Health and beauty</th>\n",
       "      <th>Home and lifestyle</th>\n",
       "      <th>Sports and travel</th>\n",
       "    </tr>\n",
       "    <tr>\n",
       "      <th>City</th>\n",
       "      <th></th>\n",
       "      <th></th>\n",
       "      <th></th>\n",
       "      <th></th>\n",
       "      <th></th>\n",
       "      <th></th>\n",
       "    </tr>\n",
       "  </thead>\n",
       "  <tbody>\n",
       "    <tr>\n",
       "      <th>Mandalay</th>\n",
       "      <td>811.9735</td>\n",
       "      <td>781.5865</td>\n",
       "      <td>724.5185</td>\n",
       "      <td>951.460</td>\n",
       "      <td>835.6745</td>\n",
       "      <td>951.8190</td>\n",
       "    </tr>\n",
       "    <tr>\n",
       "      <th>Naypyitaw</th>\n",
       "      <td>903.2845</td>\n",
       "      <td>1026.6700</td>\n",
       "      <td>1131.7550</td>\n",
       "      <td>791.206</td>\n",
       "      <td>661.6930</td>\n",
       "      <td>750.5680</td>\n",
       "    </tr>\n",
       "    <tr>\n",
       "      <th>Yangon</th>\n",
       "      <td>872.2435</td>\n",
       "      <td>777.7385</td>\n",
       "      <td>817.2905</td>\n",
       "      <td>599.893</td>\n",
       "      <td>1067.4855</td>\n",
       "      <td>922.5095</td>\n",
       "    </tr>\n",
       "  </tbody>\n",
       "</table>\n",
       "</div>"
      ],
      "text/plain": [
       "Product line  Electronic accessories  Fashion accessories  Food and beverages  \\\n",
       "City                                                                            \n",
       "Mandalay                    811.9735             781.5865            724.5185   \n",
       "Naypyitaw                   903.2845            1026.6700           1131.7550   \n",
       "Yangon                      872.2435             777.7385            817.2905   \n",
       "\n",
       "Product line  Health and beauty  Home and lifestyle  Sports and travel  \n",
       "City                                                                    \n",
       "Mandalay                951.460            835.6745           951.8190  \n",
       "Naypyitaw               791.206            661.6930           750.5680  \n",
       "Yangon                  599.893           1067.4855           922.5095  "
      ]
     },
     "execution_count": 36,
     "metadata": {},
     "output_type": "execute_result"
    }
   ],
   "source": [
    "#Крок 2\n",
    "#Питання 1: Які категорії товарів по кожному із міст дають найвищий % прибутку?\n",
    "#Прибуток по City × Product line\n",
    "profit = pd.pivot_table(df, index='City', columns='Product line', values=\"gross income\", aggfunc=\"sum\")\n",
    "profit"
   ]
  },
  {
   "cell_type": "code",
   "execution_count": 40,
   "metadata": {},
   "outputs": [
    {
     "data": {
      "text/plain": [
       "City\n",
       "Mandalay     5057.0320\n",
       "Naypyitaw    5265.1765\n",
       "Yangon       5057.1605\n",
       "dtype: float64"
      ]
     },
     "execution_count": 40,
     "metadata": {},
     "output_type": "execute_result"
    }
   ],
   "source": [
    "#визначаю totals по містах\n",
    "import numpy as np\n",
    "row_totals = profit.sum(axis=1).replace(0, np.nan)\n",
    "row_totals"
   ]
  },
  {
   "cell_type": "code",
   "execution_count": 57,
   "metadata": {},
   "outputs": [
    {
     "data": {
      "text/html": [
       "<style type=\"text/css\">\n",
       "#T_18d01_row0_col2, #T_18d01_row1_col4, #T_18d01_row2_col3 {\n",
       "  background-color: #FECACA;\n",
       "}\n",
       "#T_18d01_row0_col5, #T_18d01_row1_col2, #T_18d01_row2_col4 {\n",
       "  background-color: #C6F6D5;\n",
       "}\n",
       "</style>\n",
       "<table id=\"T_18d01\">\n",
       "  <thead>\n",
       "    <tr>\n",
       "      <th class=\"index_name level0\" >Product line</th>\n",
       "      <th id=\"T_18d01_level0_col0\" class=\"col_heading level0 col0\" >Electronic accessories</th>\n",
       "      <th id=\"T_18d01_level0_col1\" class=\"col_heading level0 col1\" >Fashion accessories</th>\n",
       "      <th id=\"T_18d01_level0_col2\" class=\"col_heading level0 col2\" >Food and beverages</th>\n",
       "      <th id=\"T_18d01_level0_col3\" class=\"col_heading level0 col3\" >Health and beauty</th>\n",
       "      <th id=\"T_18d01_level0_col4\" class=\"col_heading level0 col4\" >Home and lifestyle</th>\n",
       "      <th id=\"T_18d01_level0_col5\" class=\"col_heading level0 col5\" >Sports and travel</th>\n",
       "    </tr>\n",
       "    <tr>\n",
       "      <th class=\"index_name level0\" >City</th>\n",
       "      <th class=\"blank col0\" >&nbsp;</th>\n",
       "      <th class=\"blank col1\" >&nbsp;</th>\n",
       "      <th class=\"blank col2\" >&nbsp;</th>\n",
       "      <th class=\"blank col3\" >&nbsp;</th>\n",
       "      <th class=\"blank col4\" >&nbsp;</th>\n",
       "      <th class=\"blank col5\" >&nbsp;</th>\n",
       "    </tr>\n",
       "  </thead>\n",
       "  <tbody>\n",
       "    <tr>\n",
       "      <th id=\"T_18d01_level0_row0\" class=\"row_heading level0 row0\" >Mandalay</th>\n",
       "      <td id=\"T_18d01_row0_col0\" class=\"data row0 col0\" >16.06%</td>\n",
       "      <td id=\"T_18d01_row0_col1\" class=\"data row0 col1\" >15.46%</td>\n",
       "      <td id=\"T_18d01_row0_col2\" class=\"data row0 col2\" >14.33%</td>\n",
       "      <td id=\"T_18d01_row0_col3\" class=\"data row0 col3\" >18.81%</td>\n",
       "      <td id=\"T_18d01_row0_col4\" class=\"data row0 col4\" >16.52%</td>\n",
       "      <td id=\"T_18d01_row0_col5\" class=\"data row0 col5\" >18.82%</td>\n",
       "    </tr>\n",
       "    <tr>\n",
       "      <th id=\"T_18d01_level0_row1\" class=\"row_heading level0 row1\" >Naypyitaw</th>\n",
       "      <td id=\"T_18d01_row1_col0\" class=\"data row1 col0\" >17.16%</td>\n",
       "      <td id=\"T_18d01_row1_col1\" class=\"data row1 col1\" >19.50%</td>\n",
       "      <td id=\"T_18d01_row1_col2\" class=\"data row1 col2\" >21.50%</td>\n",
       "      <td id=\"T_18d01_row1_col3\" class=\"data row1 col3\" >15.03%</td>\n",
       "      <td id=\"T_18d01_row1_col4\" class=\"data row1 col4\" >12.57%</td>\n",
       "      <td id=\"T_18d01_row1_col5\" class=\"data row1 col5\" >14.26%</td>\n",
       "    </tr>\n",
       "    <tr>\n",
       "      <th id=\"T_18d01_level0_row2\" class=\"row_heading level0 row2\" >Yangon</th>\n",
       "      <td id=\"T_18d01_row2_col0\" class=\"data row2 col0\" >17.25%</td>\n",
       "      <td id=\"T_18d01_row2_col1\" class=\"data row2 col1\" >15.38%</td>\n",
       "      <td id=\"T_18d01_row2_col2\" class=\"data row2 col2\" >16.16%</td>\n",
       "      <td id=\"T_18d01_row2_col3\" class=\"data row2 col3\" >11.86%</td>\n",
       "      <td id=\"T_18d01_row2_col4\" class=\"data row2 col4\" >21.11%</td>\n",
       "      <td id=\"T_18d01_row2_col5\" class=\"data row2 col5\" >18.24%</td>\n",
       "    </tr>\n",
       "  </tbody>\n",
       "</table>\n"
      ],
      "text/plain": [
       "<pandas.io.formats.style.Styler at 0x1d235165b80>"
      ]
     },
     "metadata": {},
     "output_type": "display_data"
    }
   ],
   "source": [
    "#переводжу у відсотки\n",
    "profit_pct = profit.div(row_totals, axis=0).mul(100).round(2).fillna(0)\n",
    "profit_pct\n",
    "display(profit_pct.style.format('{:.2f}%').highlight_max(axis=1, color='#C6F6D5')\n",
    "        .highlight_min(axis=1, color='#FECACA'))\n",
    "#виводжу у красивому форматуванні і підсвічую найвищі та найнижчі значення, дуже сподобався цей функціонал, \n",
    "#хоч і не розбирали в уроках, чат підказав)"
   ]
  },
  {
   "cell_type": "markdown",
   "metadata": {},
   "source": [
    "Оскільки у Mandalay топ категорія це спорт і подорожі, в Yangon - дім та спосіб життя, а у Naypyitaw - продовольчі товари, то мені стало цікаво чи не пов'язано це з гендерним складом покупців. Вирішила зробити це питанням 2.\n",
    "Питання 2: Яку частку від загального прибутку міста формують покупці-жінки та покупці-чоловіки у кожному з міст?"
   ]
  },
  {
   "cell_type": "code",
   "execution_count": 60,
   "metadata": {},
   "outputs": [
    {
     "data": {
      "text/html": [
       "<div>\n",
       "<style scoped>\n",
       "    .dataframe tbody tr th:only-of-type {\n",
       "        vertical-align: middle;\n",
       "    }\n",
       "\n",
       "    .dataframe tbody tr th {\n",
       "        vertical-align: top;\n",
       "    }\n",
       "\n",
       "    .dataframe thead th {\n",
       "        text-align: right;\n",
       "    }\n",
       "</style>\n",
       "<table border=\"1\" class=\"dataframe\">\n",
       "  <thead>\n",
       "    <tr style=\"text-align: right;\">\n",
       "      <th>Gender</th>\n",
       "      <th>Female</th>\n",
       "      <th>Male</th>\n",
       "    </tr>\n",
       "    <tr>\n",
       "      <th>City</th>\n",
       "      <th></th>\n",
       "      <th></th>\n",
       "    </tr>\n",
       "  </thead>\n",
       "  <tbody>\n",
       "    <tr>\n",
       "      <th>Mandalay</th>\n",
       "      <td>2520.395</td>\n",
       "      <td>2536.6370</td>\n",
       "    </tr>\n",
       "    <tr>\n",
       "      <th>Naypyitaw</th>\n",
       "      <td>2937.403</td>\n",
       "      <td>2327.7735</td>\n",
       "    </tr>\n",
       "    <tr>\n",
       "      <th>Yangon</th>\n",
       "      <td>2536.627</td>\n",
       "      <td>2520.5335</td>\n",
       "    </tr>\n",
       "  </tbody>\n",
       "</table>\n",
       "</div>"
      ],
      "text/plain": [
       "Gender       Female       Male\n",
       "City                          \n",
       "Mandalay   2520.395  2536.6370\n",
       "Naypyitaw  2937.403  2327.7735\n",
       "Yangon     2536.627  2520.5335"
      ]
     },
     "execution_count": 60,
     "metadata": {},
     "output_type": "execute_result"
    }
   ],
   "source": [
    "profit_gender = df.pivot_table(index='City', columns='Gender', values='gross income', aggfunc='sum')\n",
    "profit_gender"
   ]
  },
  {
   "cell_type": "code",
   "execution_count": 61,
   "metadata": {},
   "outputs": [
    {
     "data": {
      "text/plain": [
       "City\n",
       "Mandalay     5057.0320\n",
       "Naypyitaw    5265.1765\n",
       "Yangon       5057.1605\n",
       "dtype: float64"
      ]
     },
     "execution_count": 61,
     "metadata": {},
     "output_type": "execute_result"
    }
   ],
   "source": [
    "#визначаю totals по містах\n",
    "gender_totals = profit_gender.sum(axis=1).replace(0, np.nan)\n",
    "gender_totals"
   ]
  },
  {
   "cell_type": "code",
   "execution_count": 63,
   "metadata": {},
   "outputs": [
    {
     "data": {
      "text/html": [
       "<style type=\"text/css\">\n",
       "#T_77205_row0_col0, #T_77205_row1_col1, #T_77205_row2_col1 {\n",
       "  background-color: #FECACA;\n",
       "}\n",
       "#T_77205_row0_col1, #T_77205_row1_col0, #T_77205_row2_col0 {\n",
       "  background-color: #C6F6D5;\n",
       "}\n",
       "</style>\n",
       "<table id=\"T_77205\">\n",
       "  <thead>\n",
       "    <tr>\n",
       "      <th class=\"index_name level0\" >Gender</th>\n",
       "      <th id=\"T_77205_level0_col0\" class=\"col_heading level0 col0\" >Female</th>\n",
       "      <th id=\"T_77205_level0_col1\" class=\"col_heading level0 col1\" >Male</th>\n",
       "    </tr>\n",
       "    <tr>\n",
       "      <th class=\"index_name level0\" >City</th>\n",
       "      <th class=\"blank col0\" >&nbsp;</th>\n",
       "      <th class=\"blank col1\" >&nbsp;</th>\n",
       "    </tr>\n",
       "  </thead>\n",
       "  <tbody>\n",
       "    <tr>\n",
       "      <th id=\"T_77205_level0_row0\" class=\"row_heading level0 row0\" >Mandalay</th>\n",
       "      <td id=\"T_77205_row0_col0\" class=\"data row0 col0\" >49.84%</td>\n",
       "      <td id=\"T_77205_row0_col1\" class=\"data row0 col1\" >50.16%</td>\n",
       "    </tr>\n",
       "    <tr>\n",
       "      <th id=\"T_77205_level0_row1\" class=\"row_heading level0 row1\" >Naypyitaw</th>\n",
       "      <td id=\"T_77205_row1_col0\" class=\"data row1 col0\" >55.79%</td>\n",
       "      <td id=\"T_77205_row1_col1\" class=\"data row1 col1\" >44.21%</td>\n",
       "    </tr>\n",
       "    <tr>\n",
       "      <th id=\"T_77205_level0_row2\" class=\"row_heading level0 row2\" >Yangon</th>\n",
       "      <td id=\"T_77205_row2_col0\" class=\"data row2 col0\" >50.16%</td>\n",
       "      <td id=\"T_77205_row2_col1\" class=\"data row2 col1\" >49.84%</td>\n",
       "    </tr>\n",
       "  </tbody>\n",
       "</table>\n"
      ],
      "text/plain": [
       "<pandas.io.formats.style.Styler at 0x1d235557fe0>"
      ]
     },
     "metadata": {},
     "output_type": "display_data"
    }
   ],
   "source": [
    "#переводжу у відсотки\n",
    "profit_gender_pct = profit_gender.div(gender_totals, axis=0).mul(100).round(2).fillna(0)\n",
    "display(profit_gender_pct.style.format('{:.2f}%').highlight_max(axis=1, color='#C6F6D5')\n",
    "        .highlight_min(axis=1, color='#FECACA'))"
   ]
  },
  {
   "cell_type": "markdown",
   "metadata": {},
   "source": [
    "З отриманих даних я не бачу жодних значимих гендерних різниць, тому моя гіпотеза не підтверджується. Вирішила наступним кроком відповісти на питання Member vs Normal: хто купує частіше по кожному із міст?"
   ]
  },
  {
   "cell_type": "code",
   "execution_count": 67,
   "metadata": {},
   "outputs": [
    {
     "data": {
      "text/html": [
       "<div>\n",
       "<style scoped>\n",
       "    .dataframe tbody tr th:only-of-type {\n",
       "        vertical-align: middle;\n",
       "    }\n",
       "\n",
       "    .dataframe tbody tr th {\n",
       "        vertical-align: top;\n",
       "    }\n",
       "\n",
       "    .dataframe thead th {\n",
       "        text-align: right;\n",
       "    }\n",
       "</style>\n",
       "<table border=\"1\" class=\"dataframe\">\n",
       "  <thead>\n",
       "    <tr style=\"text-align: right;\">\n",
       "      <th>Customer type</th>\n",
       "      <th>Member</th>\n",
       "      <th>Normal</th>\n",
       "    </tr>\n",
       "    <tr>\n",
       "      <th>City</th>\n",
       "      <th></th>\n",
       "      <th></th>\n",
       "    </tr>\n",
       "  </thead>\n",
       "  <tbody>\n",
       "    <tr>\n",
       "      <th>Mandalay</th>\n",
       "      <td>165</td>\n",
       "      <td>167</td>\n",
       "    </tr>\n",
       "    <tr>\n",
       "      <th>Naypyitaw</th>\n",
       "      <td>169</td>\n",
       "      <td>159</td>\n",
       "    </tr>\n",
       "    <tr>\n",
       "      <th>Yangon</th>\n",
       "      <td>167</td>\n",
       "      <td>173</td>\n",
       "    </tr>\n",
       "  </tbody>\n",
       "</table>\n",
       "</div>"
      ],
      "text/plain": [
       "Customer type  Member  Normal\n",
       "City                         \n",
       "Mandalay          165     167\n",
       "Naypyitaw         169     159\n",
       "Yangon            167     173"
      ]
     },
     "execution_count": 67,
     "metadata": {},
     "output_type": "execute_result"
    }
   ],
   "source": [
    "inv_count_cust_type = df.pivot_table(index='City',\\\n",
    "                                     columns='Customer type', values='Invoice ID', aggfunc=pd.Series.nunique)\n",
    "inv_count_cust_type"
   ]
  },
  {
   "cell_type": "markdown",
   "metadata": {},
   "source": [
    "Значної різниці між типом користувачів за кількістю покупок не бачу, тому продовжую аналіз далі і шукаю відповідь на запитання Яку частку прибутку формують клієнти Member і Normal у кожному місті?"
   ]
  },
  {
   "cell_type": "code",
   "execution_count": 69,
   "metadata": {},
   "outputs": [
    {
     "data": {
      "text/html": [
       "<div>\n",
       "<style scoped>\n",
       "    .dataframe tbody tr th:only-of-type {\n",
       "        vertical-align: middle;\n",
       "    }\n",
       "\n",
       "    .dataframe tbody tr th {\n",
       "        vertical-align: top;\n",
       "    }\n",
       "\n",
       "    .dataframe thead th {\n",
       "        text-align: right;\n",
       "    }\n",
       "</style>\n",
       "<table border=\"1\" class=\"dataframe\">\n",
       "  <thead>\n",
       "    <tr style=\"text-align: right;\">\n",
       "      <th>Customer type</th>\n",
       "      <th>Member</th>\n",
       "      <th>Normal</th>\n",
       "    </tr>\n",
       "    <tr>\n",
       "      <th>City</th>\n",
       "      <th></th>\n",
       "      <th></th>\n",
       "    </tr>\n",
       "  </thead>\n",
       "  <tbody>\n",
       "    <tr>\n",
       "      <th>Mandalay</th>\n",
       "      <td>2557.3660</td>\n",
       "      <td>2499.666</td>\n",
       "    </tr>\n",
       "    <tr>\n",
       "      <th>Naypyitaw</th>\n",
       "      <td>2708.6325</td>\n",
       "      <td>2556.544</td>\n",
       "    </tr>\n",
       "    <tr>\n",
       "      <th>Yangon</th>\n",
       "      <td>2554.1655</td>\n",
       "      <td>2502.995</td>\n",
       "    </tr>\n",
       "  </tbody>\n",
       "</table>\n",
       "</div>"
      ],
      "text/plain": [
       "Customer type     Member    Normal\n",
       "City                              \n",
       "Mandalay       2557.3660  2499.666\n",
       "Naypyitaw      2708.6325  2556.544\n",
       "Yangon         2554.1655  2502.995"
      ]
     },
     "execution_count": 69,
     "metadata": {},
     "output_type": "execute_result"
    }
   ],
   "source": [
    "profit_cust_type = df.pivot_table(index='City', columns='Customer type',\n",
    "                                 values='gross income', aggfunc='sum')\n",
    "profit_cust_type"
   ]
  },
  {
   "cell_type": "code",
   "execution_count": 70,
   "metadata": {},
   "outputs": [
    {
     "data": {
      "text/plain": [
       "City\n",
       "Mandalay     5057.0320\n",
       "Naypyitaw    5265.1765\n",
       "Yangon       5057.1605\n",
       "dtype: float64"
      ]
     },
     "execution_count": 70,
     "metadata": {},
     "output_type": "execute_result"
    }
   ],
   "source": [
    "profit_totals_cust_type = profit_custtype.sum(axis=1).replace(0, np.nan)\n",
    "profit_totals_cust_type"
   ]
  },
  {
   "cell_type": "code",
   "execution_count": 72,
   "metadata": {},
   "outputs": [
    {
     "data": {
      "text/html": [
       "<style type=\"text/css\">\n",
       "#T_8ff22_row0_col0, #T_8ff22_row1_col0, #T_8ff22_row2_col0 {\n",
       "  background-color: #C6F6D5;\n",
       "}\n",
       "#T_8ff22_row0_col1, #T_8ff22_row1_col1, #T_8ff22_row2_col1 {\n",
       "  background-color: #FECACA;\n",
       "}\n",
       "</style>\n",
       "<table id=\"T_8ff22\">\n",
       "  <thead>\n",
       "    <tr>\n",
       "      <th class=\"index_name level0\" >Customer type</th>\n",
       "      <th id=\"T_8ff22_level0_col0\" class=\"col_heading level0 col0\" >Member</th>\n",
       "      <th id=\"T_8ff22_level0_col1\" class=\"col_heading level0 col1\" >Normal</th>\n",
       "    </tr>\n",
       "    <tr>\n",
       "      <th class=\"index_name level0\" >City</th>\n",
       "      <th class=\"blank col0\" >&nbsp;</th>\n",
       "      <th class=\"blank col1\" >&nbsp;</th>\n",
       "    </tr>\n",
       "  </thead>\n",
       "  <tbody>\n",
       "    <tr>\n",
       "      <th id=\"T_8ff22_level0_row0\" class=\"row_heading level0 row0\" >Mandalay</th>\n",
       "      <td id=\"T_8ff22_row0_col0\" class=\"data row0 col0\" >50.57%</td>\n",
       "      <td id=\"T_8ff22_row0_col1\" class=\"data row0 col1\" >49.43%</td>\n",
       "    </tr>\n",
       "    <tr>\n",
       "      <th id=\"T_8ff22_level0_row1\" class=\"row_heading level0 row1\" >Naypyitaw</th>\n",
       "      <td id=\"T_8ff22_row1_col0\" class=\"data row1 col0\" >51.44%</td>\n",
       "      <td id=\"T_8ff22_row1_col1\" class=\"data row1 col1\" >48.56%</td>\n",
       "    </tr>\n",
       "    <tr>\n",
       "      <th id=\"T_8ff22_level0_row2\" class=\"row_heading level0 row2\" >Yangon</th>\n",
       "      <td id=\"T_8ff22_row2_col0\" class=\"data row2 col0\" >50.51%</td>\n",
       "      <td id=\"T_8ff22_row2_col1\" class=\"data row2 col1\" >49.49%</td>\n",
       "    </tr>\n",
       "  </tbody>\n",
       "</table>\n"
      ],
      "text/plain": [
       "<pandas.io.formats.style.Styler at 0x1d235165b80>"
      ]
     },
     "metadata": {},
     "output_type": "display_data"
    }
   ],
   "source": [
    "profit_cust_type_pct = (profit_cust_type.div(profit_totals_cust_type, axis=0)\n",
    "                       * 100).round(2).fillna(0)\n",
    "display(profit_cust_type_pct.style.format('{:.2f}%').highlight_max(axis=1, color='#C6F6D5')\n",
    "        .highlight_min(axis=1, color='#FECACA'))"
   ]
  },
  {
   "cell_type": "code",
   "execution_count": null,
   "metadata": {},
   "outputs": [],
   "source": [
    "Таким чином, значимої різниці між часткою прибутку по місту, яку формують клієнти Member і Normal ми не бачимо."
   ]
  },
  {
   "cell_type": "markdown",
   "metadata": {},
   "source": [
    "Крок 3. Висновки та рекомендації для прийняття бізнес рішень.\n",
    "Питання 1: Проведений аналіз виявив, що структура прибутку сильно відрізняється між містами: у Naypyitaw домінують продукти харчування, у Yangon — товари для дому, у Mandalay — спорт/подорожі та здоров'я/б’юті. Electronic accessories стабільно тримаються близько ~17% у всіх містах — «якірна» категорія без різких коливань.\n",
    "Рекомендації на основі отриманих даних:\n",
    "- Підсилювати лідерські категорії в кожному місті (запаси, викладка, бандли).\n",
    "- Для «анти-топів» — точкові промо або перегляд асортименту/цін.\n",
    "\n",
    "Питання 2: Гендерна частка прибутку по містах значимо не відрізняється, тому потреби у тестуванні промо/вітрини під жіночу чи чоловічу аудиторію немає.\n",
    "\n",
    "Питання 3: Оскільки аналіз, як кількості покупок, так і частки прибутку, що формують клієнти Member і Normal у кожному місті не виявивив значної різниці, можна говорити про те, що вплив Програми лояльності на прибуток наразі нейтральний, отже програма недоактивована з точки зору бізнес-цінності.\n",
    "Що можна рекомендувати:\n",
    "Підвищити залучення покупців до програми: бонус за першу покупку при реєстрації, проста реєстрація на касі/в додатку.\n",
    "Збільшення чека: member-only бандли в лідер-категоріях міста (див. вище), порогові пропозиції (–X% від суми N), «2× бали» у топ-категоріях кожного міста.\n",
    "Збільшення частоти: подвійні бали в «тихі» дні/години, персональні купони для повернення впродовж 7–10 днів.\n",
    "Операційно: попросити касирів пропонувати реєстрацію кожному новому клієнту; короткий скрипт + мотивація."
   ]
  }
 ],
 "metadata": {
  "colab": {
   "provenance": []
  },
  "kernelspec": {
   "display_name": "Python 3 (ipykernel)",
   "language": "python",
   "name": "python3"
  },
  "language_info": {
   "codemirror_mode": {
    "name": "ipython",
    "version": 3
   },
   "file_extension": ".py",
   "mimetype": "text/x-python",
   "name": "python",
   "nbconvert_exporter": "python",
   "pygments_lexer": "ipython3",
   "version": "3.12.3"
  }
 },
 "nbformat": 4,
 "nbformat_minor": 1
}
